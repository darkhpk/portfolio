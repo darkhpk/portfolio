{
 "cells": [
  {
   "cell_type": "code",
   "execution_count": 20,
   "id": "09391dbf-753c-4710-bd71-8960a74709ee",
   "metadata": {},
   "outputs": [],
   "source": [
    "import pandas as pd\n",
    "\n",
    "file = pd.DataFrame(pd.read_csv(\"data/books.csv\"))\n",
    "file1 = pd.DataFrame(pd.read_csv(\"data/listings.csv\"))\n",
    "file2 = pd.DataFrame(pd.read_csv(\"data/phone_data.csv\"))\n",
    "file3 = pd.DataFrame(pd.read_csv(\"data/tolympics.csv\"))\n",
    "\n",
    "file = file.astype(object)\n",
    "file1 = file1.astype(object)\n",
    "file2 = file2.astype(object)\n",
    "file3 = file3.astype(object)\n",
    "\n",
    "file_list = [file, file1, file2, file3]\n",
    "file_name = [\"books.csv\", \"listings.csv\", \"phone_data.csv\", \"tolympics.csv\"]\n",
    "\n",
    "for f in file_list:\n",
    "    f.head(10)\n",
    "    f.tail(10)\n",
    "    f.iloc[:, 2]\n",
    "\n",
    "for f in file_list:\n",
    "    f[\"Proto\"] = \"Haha\"\n",
    "\n",
    "for f in file_list:\n",
    "    n_column = f.select_dtypes(include=['number']).columns\n",
    "    for n in n_column:\n",
    "        f[n].mean()\n",
    "        show = f[f[n] > 90]\n",
    "        print(show)\n",
    "\n",
    "for f in file_list:\n",
    "    try:\n",
    "        f.fillna(\"M\", inplace=True)\n",
    "    except Exception as e:\n",
    "        print(e)\n",
    "\n",
    "for f in file_list:\n",
    "    n_column = f.select_dtypes(include=['number']).columns\n",
    "    for n in n_column:\n",
    "        f.sort_values(by=n, ascending=True)\n",
    "\n",
    "i = 0\n",
    "for f in file_list:\n",
    "    f.to_csv(f\"modified_{file_name[i]}\", index=False)\n",
    "    i += 1\n"
   ]
  },
  {
   "cell_type": "code",
   "execution_count": null,
   "id": "c901e012-33cd-491b-a944-1f3470a65109",
   "metadata": {},
   "outputs": [],
   "source": []
  }
 ],
 "metadata": {
  "kernelspec": {
   "display_name": "Python 3 (ipykernel)",
   "language": "python",
   "name": "python3"
  },
  "language_info": {
   "codemirror_mode": {
    "name": "ipython",
    "version": 3
   },
   "file_extension": ".py",
   "mimetype": "text/x-python",
   "name": "python",
   "nbconvert_exporter": "python",
   "pygments_lexer": "ipython3",
   "version": "3.12.6"
  }
 },
 "nbformat": 4,
 "nbformat_minor": 5
}
